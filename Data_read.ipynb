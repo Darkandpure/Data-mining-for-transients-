{
 "cells": [
  {
   "cell_type": "code",
   "execution_count": 2,
   "metadata": {},
   "outputs": [],
   "source": [
    "import pandas as pd\n",
    "import numpy as np\n",
    "import matplotlib.pyplot as plt\n",
    "import seaborn as sns\n",
    "import matplotlib as mpl"
   ]
  },
  {
   "attachments": {},
   "cell_type": "markdown",
   "metadata": {},
   "source": [
    "# Here im reading VLASS Quick Look data of epoch1\n",
    "- I have tailored and selected the columns i need from 70 columns in main table\n",
    "- from csv i have converted the file to apache parquet format (suitable for big data operations)"
   ]
  },
  {
   "cell_type": "code",
   "execution_count": 5,
   "metadata": {},
   "outputs": [],
   "source": [
    "file_path = \"/home/vivek/Desktop/Ms-paper/Quick_look1_r.parquet\"\n",
    "\n",
    "# Read the CSV file in chunks\n",
    "df = pd.read_parquet(file_path)"
   ]
  },
  {
   "attachments": {},
   "cell_type": "markdown",
   "metadata": {},
   "source": [
    "# lets see the first 5 rows "
   ]
  },
  {
   "cell_type": "code",
   "execution_count": 6,
   "metadata": {},
   "outputs": [
    {
     "data": {
      "text/html": [
       "<div>\n",
       "<style scoped>\n",
       "    .dataframe tbody tr th:only-of-type {\n",
       "        vertical-align: middle;\n",
       "    }\n",
       "\n",
       "    .dataframe tbody tr th {\n",
       "        vertical-align: top;\n",
       "    }\n",
       "\n",
       "    .dataframe thead th {\n",
       "        text-align: right;\n",
       "    }\n",
       "</style>\n",
       "<table border=\"1\" class=\"dataframe\">\n",
       "  <thead>\n",
       "    <tr style=\"text-align: right;\">\n",
       "      <th></th>\n",
       "      <th>Component_name</th>\n",
       "      <th>Component_id</th>\n",
       "      <th>RA</th>\n",
       "      <th>DEC</th>\n",
       "      <th>Total_flux</th>\n",
       "      <th>Peak_flux</th>\n",
       "      <th>NVSS_distance</th>\n",
       "      <th>FIRST_distance</th>\n",
       "      <th>Duplicate_flag</th>\n",
       "      <th>Quality_flag</th>\n",
       "      <th>Source_type</th>\n",
       "    </tr>\n",
       "  </thead>\n",
       "  <tbody>\n",
       "    <tr>\n",
       "      <th>0</th>\n",
       "      <td>VLASS1QLCIR J000000.04+800045.6</td>\n",
       "      <td>90</td>\n",
       "      <td>0.000177</td>\n",
       "      <td>80.012667</td>\n",
       "      <td>0.818652</td>\n",
       "      <td>0.752668</td>\n",
       "      <td>2.621770</td>\n",
       "      <td>101649.619740</td>\n",
       "      <td>0</td>\n",
       "      <td>2</td>\n",
       "      <td>N/</td>\n",
       "    </tr>\n",
       "    <tr>\n",
       "      <th>1</th>\n",
       "      <td>VLASS1QLCIR J000000.05+441010.5</td>\n",
       "      <td>4</td>\n",
       "      <td>0.000222</td>\n",
       "      <td>44.169596</td>\n",
       "      <td>5.166948</td>\n",
       "      <td>1.068693</td>\n",
       "      <td>19.433964</td>\n",
       "      <td>104502.389639</td>\n",
       "      <td>0</td>\n",
       "      <td>11</td>\n",
       "      <td>N/</td>\n",
       "    </tr>\n",
       "    <tr>\n",
       "      <th>2</th>\n",
       "      <td>VLASS1QLCIR J000000.07-062930.6</td>\n",
       "      <td>63</td>\n",
       "      <td>0.000296</td>\n",
       "      <td>-6.491848</td>\n",
       "      <td>1.905655</td>\n",
       "      <td>1.204416</td>\n",
       "      <td>105.235342</td>\n",
       "      <td>287.858167</td>\n",
       "      <td>0</td>\n",
       "      <td>0</td>\n",
       "      <td>SC</td>\n",
       "    </tr>\n",
       "    <tr>\n",
       "      <th>3</th>\n",
       "      <td>VLASS1QLCIR J000000.08+275057.9</td>\n",
       "      <td>-6</td>\n",
       "      <td>0.000369</td>\n",
       "      <td>27.849437</td>\n",
       "      <td>0.000000</td>\n",
       "      <td>1.149879</td>\n",
       "      <td>127.144526</td>\n",
       "      <td>46260.957406</td>\n",
       "      <td>0</td>\n",
       "      <td>4</td>\n",
       "      <td>N/</td>\n",
       "    </tr>\n",
       "    <tr>\n",
       "      <th>4</th>\n",
       "      <td>VLASS1QLCIR J000000.08+190239.5</td>\n",
       "      <td>36</td>\n",
       "      <td>0.000373</td>\n",
       "      <td>19.044331</td>\n",
       "      <td>4.456763</td>\n",
       "      <td>2.734357</td>\n",
       "      <td>86.250334</td>\n",
       "      <td>14750.693914</td>\n",
       "      <td>2</td>\n",
       "      <td>0</td>\n",
       "      <td>N/</td>\n",
       "    </tr>\n",
       "  </tbody>\n",
       "</table>\n",
       "</div>"
      ],
      "text/plain": [
       "                    Component_name  Component_id        RA        DEC  \\\n",
       "0  VLASS1QLCIR J000000.04+800045.6            90  0.000177  80.012667   \n",
       "1  VLASS1QLCIR J000000.05+441010.5             4  0.000222  44.169596   \n",
       "2  VLASS1QLCIR J000000.07-062930.6            63  0.000296  -6.491848   \n",
       "3  VLASS1QLCIR J000000.08+275057.9            -6  0.000369  27.849437   \n",
       "4  VLASS1QLCIR J000000.08+190239.5            36  0.000373  19.044331   \n",
       "\n",
       "   Total_flux  Peak_flux  NVSS_distance  FIRST_distance  Duplicate_flag  \\\n",
       "0    0.818652   0.752668       2.621770   101649.619740               0   \n",
       "1    5.166948   1.068693      19.433964   104502.389639               0   \n",
       "2    1.905655   1.204416     105.235342      287.858167               0   \n",
       "3    0.000000   1.149879     127.144526    46260.957406               0   \n",
       "4    4.456763   2.734357      86.250334    14750.693914               2   \n",
       "\n",
       "   Quality_flag Source_type  \n",
       "0             2          N/  \n",
       "1            11          N/  \n",
       "2             0          SC  \n",
       "3             4          N/  \n",
       "4             0          N/  "
      ]
     },
     "execution_count": 6,
     "metadata": {},
     "output_type": "execute_result"
    }
   ],
   "source": [
    "df.head()"
   ]
  },
  {
   "attachments": {},
   "cell_type": "markdown",
   "metadata": {},
   "source": [
    "# Now the last 5 rows"
   ]
  },
  {
   "cell_type": "code",
   "execution_count": 7,
   "metadata": {},
   "outputs": [
    {
     "data": {
      "text/html": [
       "<div>\n",
       "<style scoped>\n",
       "    .dataframe tbody tr th:only-of-type {\n",
       "        vertical-align: middle;\n",
       "    }\n",
       "\n",
       "    .dataframe tbody tr th {\n",
       "        vertical-align: top;\n",
       "    }\n",
       "\n",
       "    .dataframe thead th {\n",
       "        text-align: right;\n",
       "    }\n",
       "</style>\n",
       "<table border=\"1\" class=\"dataframe\">\n",
       "  <thead>\n",
       "    <tr style=\"text-align: right;\">\n",
       "      <th></th>\n",
       "      <th>Component_name</th>\n",
       "      <th>Component_id</th>\n",
       "      <th>RA</th>\n",
       "      <th>DEC</th>\n",
       "      <th>Total_flux</th>\n",
       "      <th>Peak_flux</th>\n",
       "      <th>NVSS_distance</th>\n",
       "      <th>FIRST_distance</th>\n",
       "      <th>Duplicate_flag</th>\n",
       "      <th>Quality_flag</th>\n",
       "      <th>Source_type</th>\n",
       "    </tr>\n",
       "  </thead>\n",
       "  <tbody>\n",
       "    <tr>\n",
       "      <th>3381272</th>\n",
       "      <td>VLASS1QLCIR J235959.94+361624.4</td>\n",
       "      <td>1</td>\n",
       "      <td>359.999759</td>\n",
       "      <td>36.273452</td>\n",
       "      <td>6.216199</td>\n",
       "      <td>4.353328</td>\n",
       "      <td>0.744776</td>\n",
       "      <td>76229.631594</td>\n",
       "      <td>1</td>\n",
       "      <td>0</td>\n",
       "      <td>SC</td>\n",
       "    </tr>\n",
       "    <tr>\n",
       "      <th>3381273</th>\n",
       "      <td>VLASS1QLCIR J235959.94-313449.4</td>\n",
       "      <td>-25</td>\n",
       "      <td>359.999775</td>\n",
       "      <td>-31.580402</td>\n",
       "      <td>0.000000</td>\n",
       "      <td>3.961394</td>\n",
       "      <td>101.275293</td>\n",
       "      <td>72431.273124</td>\n",
       "      <td>0</td>\n",
       "      <td>4</td>\n",
       "      <td>N/</td>\n",
       "    </tr>\n",
       "    <tr>\n",
       "      <th>3381274</th>\n",
       "      <td>VLASS1QLCIR J235959.95-311435.2</td>\n",
       "      <td>-85</td>\n",
       "      <td>359.999793</td>\n",
       "      <td>-31.243116</td>\n",
       "      <td>0.000000</td>\n",
       "      <td>1.217973</td>\n",
       "      <td>279.514119</td>\n",
       "      <td>71217.046438</td>\n",
       "      <td>0</td>\n",
       "      <td>4</td>\n",
       "      <td>N/</td>\n",
       "    </tr>\n",
       "    <tr>\n",
       "      <th>3381275</th>\n",
       "      <td>VLASS1QLCIR J235959.96+333602.9</td>\n",
       "      <td>-1</td>\n",
       "      <td>359.999836</td>\n",
       "      <td>33.600828</td>\n",
       "      <td>0.000000</td>\n",
       "      <td>0.891518</td>\n",
       "      <td>188.959299</td>\n",
       "      <td>66687.696458</td>\n",
       "      <td>0</td>\n",
       "      <td>4</td>\n",
       "      <td>N/</td>\n",
       "    </tr>\n",
       "    <tr>\n",
       "      <th>3381276</th>\n",
       "      <td>VLASS1QLCIR J235959.99-034346.5</td>\n",
       "      <td>0</td>\n",
       "      <td>359.999999</td>\n",
       "      <td>-3.729597</td>\n",
       "      <td>2.509144</td>\n",
       "      <td>2.151774</td>\n",
       "      <td>190.762281</td>\n",
       "      <td>182.056202</td>\n",
       "      <td>0</td>\n",
       "      <td>9</td>\n",
       "      <td>N/</td>\n",
       "    </tr>\n",
       "  </tbody>\n",
       "</table>\n",
       "</div>"
      ],
      "text/plain": [
       "                          Component_name  Component_id          RA        DEC  \\\n",
       "3381272  VLASS1QLCIR J235959.94+361624.4             1  359.999759  36.273452   \n",
       "3381273  VLASS1QLCIR J235959.94-313449.4           -25  359.999775 -31.580402   \n",
       "3381274  VLASS1QLCIR J235959.95-311435.2           -85  359.999793 -31.243116   \n",
       "3381275  VLASS1QLCIR J235959.96+333602.9            -1  359.999836  33.600828   \n",
       "3381276  VLASS1QLCIR J235959.99-034346.5             0  359.999999  -3.729597   \n",
       "\n",
       "         Total_flux  Peak_flux  NVSS_distance  FIRST_distance  Duplicate_flag  \\\n",
       "3381272    6.216199   4.353328       0.744776    76229.631594               1   \n",
       "3381273    0.000000   3.961394     101.275293    72431.273124               0   \n",
       "3381274    0.000000   1.217973     279.514119    71217.046438               0   \n",
       "3381275    0.000000   0.891518     188.959299    66687.696458               0   \n",
       "3381276    2.509144   2.151774     190.762281      182.056202               0   \n",
       "\n",
       "         Quality_flag Source_type  \n",
       "3381272             0          SC  \n",
       "3381273             4          N/  \n",
       "3381274             4          N/  \n",
       "3381275             4          N/  \n",
       "3381276             9          N/  "
      ]
     },
     "execution_count": 7,
     "metadata": {},
     "output_type": "execute_result"
    }
   ],
   "source": [
    "df.tail()"
   ]
  },
  {
   "cell_type": "code",
   "execution_count": 8,
   "metadata": {},
   "outputs": [
    {
     "name": "stdout",
     "output_type": "stream",
     "text": [
      "0          0.752668\n",
      "1          1.068693\n",
      "2          1.204416\n",
      "3          1.149879\n",
      "4          2.734357\n",
      "             ...   \n",
      "3381272    4.353328\n",
      "3381273    3.961394\n",
      "3381274    1.217973\n",
      "3381275    0.891518\n",
      "3381276    2.151774\n",
      "Name: Peak_flux, Length: 3381277, dtype: float64\n"
     ]
    }
   ],
   "source": [
    "x =  df['Peak_flux']\n",
    "print(x)"
   ]
  },
  {
   "attachments": {},
   "cell_type": "markdown",
   "metadata": {},
   "source": [
    "# Now lets see the peak brigtness of the catalogue data vs quality flag = 0"
   ]
  },
  {
   "cell_type": "code",
   "execution_count": 9,
   "metadata": {},
   "outputs": [],
   "source": [
    "\n",
    "# Separate the data into two groups based on Quality_flag\n",
    "all_components = df['Peak_flux'].sort_values()\n",
    "quality_flag_0_components = df[df['Quality_flag'] == 0]['Peak_flux'].sort_values()\n"
   ]
  },
  {
   "cell_type": "code",
   "execution_count": 14,
   "metadata": {},
   "outputs": [
    {
     "data": {
      "image/png": "[encoded data removed]",
      "text/plain": [
       "<Figure size 640x480 with 1 Axes>"
      ]
     },
     "metadata": {},
     "output_type": "display_data"
    }
   ],
   "source": [
    "# Create the y-axis values for the line plot\n",
    "y_all = np.arange(1, len(all_components)+1) \n",
    "y_quality_flag_0 = np.arange(1, len(quality_flag_0_components)+1) \n",
    "\n",
    "# Plot the line plots for all components and Quality_flag == 0 components\n",
    "plt.plot(all_components, y_all, color='blue', alpha=0.5, label='All Components')\n",
    "plt.plot(quality_flag_0_components, y_quality_flag_0, color='red', alpha=0.5, label='Quality_flag == 0')\n",
    "plt.xlabel('Peak Brightness')\n",
    "plt.ylabel('ECDF')\n",
    "plt.xscale('log')\n",
    "plt.yscale('log')\n",
    "plt.xlim()\n",
    "plt.title('Distribution of Peak Brightness Measurements')\n",
    "plt.legend()\n",
    "plt.grid(True)\n",
    "plt.show()"
   ]
  },
  {
   "cell_type": "markdown",
   "metadata": {},
   "source": []
  },
  {
   "cell_type": "code",
   "execution_count": null,
   "metadata": {},
   "outputs": [
    {
     "data": {
      "text/plain": [
       "3381277"
      ]
     },
     "execution_count": 10,
     "metadata": {},
     "output_type": "execute_result"
    }
   ],
   "source": []
  },
  {
   "cell_type": "code",
   "execution_count": null,
   "metadata": {},
   "outputs": [
    {
     "ename": "AttributeError",
     "evalue": "'int' object has no attribute 'count'",
     "output_type": "error",
     "traceback": [
      "\u001b[0;31m---------------------------------------------------------------------------\u001b[0m",
      "\u001b[0;31mAttributeError\u001b[0m                            Traceback (most recent call last)",
      "Cell \u001b[0;32mIn[30], line 1\u001b[0m\n\u001b[0;32m----> 1\u001b[0m y_quality_flag_0\u001b[39m.\u001b[39;49mcount()\n",
      "\u001b[0;31mAttributeError\u001b[0m: 'int' object has no attribute 'count'"
     ]
    }
   ],
   "source": [
    "\n"
   ]
  }
 ],
 "metadata": {
  "kernelspec": {
   "display_name": "Python 3",
   "language": "python",
   "name": "python3"
  },
  "language_info": {
   "codemirror_mode": {
    "name": "ipython",
    "version": 3
   },
   "file_extension": ".py",
   "mimetype": "text/x-python",
   "name": "python",
   "nbconvert_exporter": "python",
   "pygments_lexer": "ipython3",
   "version": "3.10.6"
  },
  "orig_nbformat": 4
 },
 "nbformat": 4,
 "nbformat_minor": 2
}
