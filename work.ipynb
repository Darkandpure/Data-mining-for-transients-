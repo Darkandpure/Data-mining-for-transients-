{
 "cells": [
  {
   "cell_type": "code",
   "execution_count": 7,
   "metadata": {},
   "outputs": [
    {
     "ename": "ImportError",
     "evalue": "lxml not found, please install it",
     "output_type": "error",
     "traceback": [
      "\u001b[0;31m---------------------------------------------------------------------------\u001b[0m",
      "\u001b[0;31mImportError\u001b[0m                               Traceback (most recent call last)",
      "Cell \u001b[0;32mIn[7], line 5\u001b[0m\n\u001b[1;32m      3\u001b[0m \u001b[39m# Load the HTML file (assuming it's in the same directory as the script)\u001b[39;00m\n\u001b[1;32m      4\u001b[0m html_file \u001b[39m=\u001b[39m \u001b[39m\"\u001b[39m\u001b[39m/home/master1/Downloads/sample-data_v2.xlsx - Google Sheets.html\u001b[39m\u001b[39m\"\u001b[39m\n\u001b[0;32m----> 5\u001b[0m dfs \u001b[39m=\u001b[39m pd\u001b[39m.\u001b[39;49mread_html(html_file)\n\u001b[1;32m      7\u001b[0m \u001b[39m# dfs is a list of DataFrames, you can access the first DataFrame as follows:\u001b[39;00m\n\u001b[1;32m      8\u001b[0m df \u001b[39m=\u001b[39m dfs[\u001b[39m0\u001b[39m]\n",
      "File \u001b[0;32m/HDD2/miniconda3/lib/python3.8/site-packages/pandas/io/html.py:1212\u001b[0m, in \u001b[0;36mread_html\u001b[0;34m(io, match, flavor, header, index_col, skiprows, attrs, parse_dates, thousands, encoding, decimal, converters, na_values, keep_default_na, displayed_only, extract_links, dtype_backend)\u001b[0m\n\u001b[1;32m   1208\u001b[0m check_dtype_backend(dtype_backend)\n\u001b[1;32m   1210\u001b[0m io \u001b[39m=\u001b[39m stringify_path(io)\n\u001b[0;32m-> 1212\u001b[0m \u001b[39mreturn\u001b[39;00m _parse(\n\u001b[1;32m   1213\u001b[0m     flavor\u001b[39m=\u001b[39;49mflavor,\n\u001b[1;32m   1214\u001b[0m     io\u001b[39m=\u001b[39;49mio,\n\u001b[1;32m   1215\u001b[0m     match\u001b[39m=\u001b[39;49mmatch,\n\u001b[1;32m   1216\u001b[0m     header\u001b[39m=\u001b[39;49mheader,\n\u001b[1;32m   1217\u001b[0m     index_col\u001b[39m=\u001b[39;49mindex_col,\n\u001b[1;32m   1218\u001b[0m     skiprows\u001b[39m=\u001b[39;49mskiprows,\n\u001b[1;32m   1219\u001b[0m     parse_dates\u001b[39m=\u001b[39;49mparse_dates,\n\u001b[1;32m   1220\u001b[0m     thousands\u001b[39m=\u001b[39;49mthousands,\n\u001b[1;32m   1221\u001b[0m     attrs\u001b[39m=\u001b[39;49mattrs,\n\u001b[1;32m   1222\u001b[0m     encoding\u001b[39m=\u001b[39;49mencoding,\n\u001b[1;32m   1223\u001b[0m     decimal\u001b[39m=\u001b[39;49mdecimal,\n\u001b[1;32m   1224\u001b[0m     converters\u001b[39m=\u001b[39;49mconverters,\n\u001b[1;32m   1225\u001b[0m     na_values\u001b[39m=\u001b[39;49mna_values,\n\u001b[1;32m   1226\u001b[0m     keep_default_na\u001b[39m=\u001b[39;49mkeep_default_na,\n\u001b[1;32m   1227\u001b[0m     displayed_only\u001b[39m=\u001b[39;49mdisplayed_only,\n\u001b[1;32m   1228\u001b[0m     extract_links\u001b[39m=\u001b[39;49mextract_links,\n\u001b[1;32m   1229\u001b[0m     dtype_backend\u001b[39m=\u001b[39;49mdtype_backend,\n\u001b[1;32m   1230\u001b[0m )\n",
      "File \u001b[0;32m/HDD2/miniconda3/lib/python3.8/site-packages/pandas/io/html.py:977\u001b[0m, in \u001b[0;36m_parse\u001b[0;34m(flavor, io, match, attrs, encoding, displayed_only, extract_links, **kwargs)\u001b[0m\n\u001b[1;32m    975\u001b[0m retained \u001b[39m=\u001b[39m \u001b[39mNone\u001b[39;00m\n\u001b[1;32m    976\u001b[0m \u001b[39mfor\u001b[39;00m flav \u001b[39min\u001b[39;00m flavor:\n\u001b[0;32m--> 977\u001b[0m     parser \u001b[39m=\u001b[39m _parser_dispatch(flav)\n\u001b[1;32m    978\u001b[0m     p \u001b[39m=\u001b[39m parser(io, compiled_match, attrs, encoding, displayed_only, extract_links)\n\u001b[1;32m    980\u001b[0m     \u001b[39mtry\u001b[39;00m:\n",
      "File \u001b[0;32m/HDD2/miniconda3/lib/python3.8/site-packages/pandas/io/html.py:934\u001b[0m, in \u001b[0;36m_parser_dispatch\u001b[0;34m(flavor)\u001b[0m\n\u001b[1;32m    932\u001b[0m \u001b[39melse\u001b[39;00m:\n\u001b[1;32m    933\u001b[0m     \u001b[39mif\u001b[39;00m \u001b[39mnot\u001b[39;00m _HAS_LXML:\n\u001b[0;32m--> 934\u001b[0m         \u001b[39mraise\u001b[39;00m \u001b[39mImportError\u001b[39;00m(\u001b[39m\"\u001b[39m\u001b[39mlxml not found, please install it\u001b[39m\u001b[39m\"\u001b[39m)\n\u001b[1;32m    935\u001b[0m \u001b[39mreturn\u001b[39;00m _valid_parsers[flavor]\n",
      "\u001b[0;31mImportError\u001b[0m: lxml not found, please install it"
     ]
    }
   ],
   "source": [
    "import pandas as pd\n",
    "\n",
    "# Load the HTML file (assuming it's in the same directory as the script)\n",
    "html_file = \"/home/master1/Downloads/sample-data_v2.xlsx - Google Sheets.html\"\n",
    "dfs = pd.read_html(html_file)\n",
    "\n",
    "# dfs is a list of DataFrames, you can access the first DataFrame as follows:\n",
    "df = dfs[0]\n",
    "\n",
    "# Display the first few rows of the DataFrame\n",
    "df.head()\n",
    "\n"
   ]
  }
 ],
 "metadata": {
  "kernelspec": {
   "display_name": "base",
   "language": "python",
   "name": "python3"
  },
  "language_info": {
   "codemirror_mode": {
    "name": "ipython",
    "version": 3
   },
   "file_extension": ".py",
   "mimetype": "text/x-python",
   "name": "python",
   "nbconvert_exporter": "python",
   "pygments_lexer": "ipython3",
   "version": "3.8.17"
  },
  "orig_nbformat": 4
 },
 "nbformat": 4,
 "nbformat_minor": 2
}
